{
  "nbformat": 4,
  "nbformat_minor": 0,
  "metadata": {
    "colab": {
      "name": "Pororo summarization.ipynb",
      "provenance": [],
      "collapsed_sections": []
    },
    "kernelspec": {
      "name": "python3",
      "display_name": "Python 3"
    },
    "language_info": {
      "name": "python"
    }
  },
  "cells": [
    {
      "cell_type": "markdown",
      "metadata": {
        "id": "3ITxz8aXrFkG"
      },
      "source": [
        "# Pororo Summarization(Platform of neuRal mOdels for natuRal language prOcessing)\n",
        "코드: https://github.com/kakaobrain/pororo <br>\n",
        "출처: https://kakaobrain.github.io/pororo/notes/intro.html"
      ]
    },
    {
      "cell_type": "code",
      "metadata": {
        "id": "3yvK4vdOqvM7",
        "colab": {
          "base_uri": "https://localhost:8080/"
        },
        "outputId": "5c70daaf-2d30-4f92-b97c-2b6af57c3536"
      },
      "source": [
        "!pip install pororo\n",
        "\n",
        "# Or you can install it locally: \n",
        "# git clone https://github.com/kakaobrain/pororo.git\n",
        "# cd pororo\n",
        "# pip install -e ."
      ],
      "execution_count": null,
      "outputs": [
        {
          "output_type": "stream",
          "text": [
            "Requirement already satisfied: pororo in /usr/local/lib/python3.7/dist-packages (0.4.2)\n",
            "Requirement already satisfied: g2p-en in /usr/local/lib/python3.7/dist-packages (from pororo) (2.1.0)\n",
            "Requirement already satisfied: sentence-transformers>=0.4.1.2 in /usr/local/lib/python3.7/dist-packages (from pororo) (1.2.0)\n",
            "Requirement already satisfied: lxml in /usr/local/lib/python3.7/dist-packages (from pororo) (4.2.6)\n",
            "Requirement already satisfied: joblib in /usr/local/lib/python3.7/dist-packages (from pororo) (1.0.1)\n",
            "Requirement already satisfied: kss in /usr/local/lib/python3.7/dist-packages (from pororo) (2.5.1)\n",
            "Requirement already satisfied: word2word in /usr/local/lib/python3.7/dist-packages (from pororo) (1.0.0)\n",
            "Requirement already satisfied: nltk>=3.5 in /usr/local/lib/python3.7/dist-packages (from pororo) (3.6.2)\n",
            "Collecting torch==1.6.0\n",
            "  Using cached https://files.pythonhosted.org/packages/5d/5e/35140615fc1f925023f489e71086a9ecc188053d263d3594237281284d82/torch-1.6.0-cp37-cp37m-manylinux1_x86_64.whl\n",
            "Requirement already satisfied: torchvision==0.7.0 in /usr/local/lib/python3.7/dist-packages (from pororo) (0.7.0)\n",
            "Requirement already satisfied: transformers>=4.0.0 in /usr/local/lib/python3.7/dist-packages (from pororo) (4.6.1)\n",
            "Requirement already satisfied: pillow>=4.1.1 in /usr/local/lib/python3.7/dist-packages (from pororo) (7.1.2)\n",
            "Requirement already satisfied: wget in /usr/local/lib/python3.7/dist-packages (from pororo) (3.2)\n",
            "Requirement already satisfied: marisa-trie in /usr/local/lib/python3.7/dist-packages (from pororo) (0.7.5)\n",
            "Requirement already satisfied: whoosh in /usr/local/lib/python3.7/dist-packages (from pororo) (2.7.4)\n",
            "Requirement already satisfied: fairseq>=0.10.2 in /usr/local/lib/python3.7/dist-packages (from pororo) (0.10.2)\n",
            "Requirement already satisfied: distance>=0.1.3 in /usr/local/lib/python3.7/dist-packages (from g2p-en->pororo) (0.1.3)\n",
            "Requirement already satisfied: inflect>=0.3.1 in /usr/local/lib/python3.7/dist-packages (from g2p-en->pororo) (2.1.0)\n",
            "Requirement already satisfied: numpy>=1.13.1 in /usr/local/lib/python3.7/dist-packages (from g2p-en->pororo) (1.19.5)\n",
            "Requirement already satisfied: tqdm in /usr/local/lib/python3.7/dist-packages (from sentence-transformers>=0.4.1.2->pororo) (4.41.1)\n",
            "Requirement already satisfied: sentencepiece in /usr/local/lib/python3.7/dist-packages (from sentence-transformers>=0.4.1.2->pororo) (0.1.95)\n",
            "Requirement already satisfied: scipy in /usr/local/lib/python3.7/dist-packages (from sentence-transformers>=0.4.1.2->pororo) (1.4.1)\n",
            "Requirement already satisfied: scikit-learn in /usr/local/lib/python3.7/dist-packages (from sentence-transformers>=0.4.1.2->pororo) (0.22.2.post1)\n",
            "Requirement already satisfied: requests in /usr/local/lib/python3.7/dist-packages (from word2word->pororo) (2.23.0)\n",
            "Requirement already satisfied: click in /usr/local/lib/python3.7/dist-packages (from nltk>=3.5->pororo) (7.1.2)\n",
            "Requirement already satisfied: regex in /usr/local/lib/python3.7/dist-packages (from nltk>=3.5->pororo) (2019.12.20)\n",
            "Requirement already satisfied: future in /usr/local/lib/python3.7/dist-packages (from torch==1.6.0->pororo) (0.16.0)\n",
            "Requirement already satisfied: tokenizers<0.11,>=0.10.1 in /usr/local/lib/python3.7/dist-packages (from transformers>=4.0.0->pororo) (0.10.3)\n",
            "Requirement already satisfied: filelock in /usr/local/lib/python3.7/dist-packages (from transformers>=4.0.0->pororo) (3.0.12)\n",
            "Requirement already satisfied: packaging in /usr/local/lib/python3.7/dist-packages (from transformers>=4.0.0->pororo) (20.9)\n",
            "Requirement already satisfied: sacremoses in /usr/local/lib/python3.7/dist-packages (from transformers>=4.0.0->pororo) (0.0.45)\n",
            "Requirement already satisfied: importlib-metadata; python_version < \"3.8\" in /usr/local/lib/python3.7/dist-packages (from transformers>=4.0.0->pororo) (4.0.1)\n",
            "Requirement already satisfied: huggingface-hub==0.0.8 in /usr/local/lib/python3.7/dist-packages (from transformers>=4.0.0->pororo) (0.0.8)\n",
            "Requirement already satisfied: cython in /usr/local/lib/python3.7/dist-packages (from fairseq>=0.10.2->pororo) (0.29.23)\n",
            "Requirement already satisfied: sacrebleu>=1.4.12 in /usr/local/lib/python3.7/dist-packages (from fairseq>=0.10.2->pororo) (1.5.1)\n",
            "Requirement already satisfied: hydra-core in /usr/local/lib/python3.7/dist-packages (from fairseq>=0.10.2->pororo) (1.0.6)\n",
            "Requirement already satisfied: cffi in /usr/local/lib/python3.7/dist-packages (from fairseq>=0.10.2->pororo) (1.14.5)\n",
            "Requirement already satisfied: dataclasses in /usr/local/lib/python3.7/dist-packages (from fairseq>=0.10.2->pororo) (0.6)\n",
            "Requirement already satisfied: chardet<4,>=3.0.2 in /usr/local/lib/python3.7/dist-packages (from requests->word2word->pororo) (3.0.4)\n",
            "Requirement already satisfied: certifi>=2017.4.17 in /usr/local/lib/python3.7/dist-packages (from requests->word2word->pororo) (2020.12.5)\n",
            "Requirement already satisfied: idna<3,>=2.5 in /usr/local/lib/python3.7/dist-packages (from requests->word2word->pororo) (2.10)\n",
            "Requirement already satisfied: urllib3!=1.25.0,!=1.25.1,<1.26,>=1.21.1 in /usr/local/lib/python3.7/dist-packages (from requests->word2word->pororo) (1.24.3)\n",
            "Requirement already satisfied: pyparsing>=2.0.2 in /usr/local/lib/python3.7/dist-packages (from packaging->transformers>=4.0.0->pororo) (2.4.7)\n",
            "Requirement already satisfied: six in /usr/local/lib/python3.7/dist-packages (from sacremoses->transformers>=4.0.0->pororo) (1.15.0)\n",
            "Requirement already satisfied: zipp>=0.5 in /usr/local/lib/python3.7/dist-packages (from importlib-metadata; python_version < \"3.8\"->transformers>=4.0.0->pororo) (3.4.1)\n",
            "Requirement already satisfied: typing-extensions>=3.6.4; python_version < \"3.8\" in /usr/local/lib/python3.7/dist-packages (from importlib-metadata; python_version < \"3.8\"->transformers>=4.0.0->pororo) (3.7.4.3)\n",
            "Requirement already satisfied: portalocker==2.0.0 in /usr/local/lib/python3.7/dist-packages (from sacrebleu>=1.4.12->fairseq>=0.10.2->pororo) (2.0.0)\n",
            "Requirement already satisfied: omegaconf<2.1,>=2.0.5 in /usr/local/lib/python3.7/dist-packages (from hydra-core->fairseq>=0.10.2->pororo) (2.0.6)\n",
            "Requirement already satisfied: importlib-resources; python_version < \"3.9\" in /usr/local/lib/python3.7/dist-packages (from hydra-core->fairseq>=0.10.2->pororo) (5.1.3)\n",
            "Requirement already satisfied: antlr4-python3-runtime==4.8 in /usr/local/lib/python3.7/dist-packages (from hydra-core->fairseq>=0.10.2->pororo) (4.8)\n",
            "Requirement already satisfied: pycparser in /usr/local/lib/python3.7/dist-packages (from cffi->fairseq>=0.10.2->pororo) (2.20)\n",
            "Requirement already satisfied: PyYAML>=5.1.* in /usr/local/lib/python3.7/dist-packages (from omegaconf<2.1,>=2.0.5->hydra-core->fairseq>=0.10.2->pororo) (5.4.1)\n",
            "\u001b[31mERROR: torchtext 0.9.1 has requirement torch==1.8.1, but you'll have torch 1.6.0 which is incompatible.\u001b[0m\n",
            "Installing collected packages: torch\n",
            "  Found existing installation: torch 1.8.1\n",
            "    Uninstalling torch-1.8.1:\n",
            "      Successfully uninstalled torch-1.8.1\n",
            "Successfully installed torch-1.6.0\n"
          ],
          "name": "stdout"
        }
      ]
    },
    {
      "cell_type": "code",
      "metadata": {
        "id": "AR-0SjclrI8b",
        "colab": {
          "base_uri": "https://localhost:8080/",
          "height": 125
        },
        "outputId": "5dd910fd-3c37-4449-eee6-4cc6bad023d9"
      },
      "source": [
        "from pororo import Pororo\n",
        "\n",
        "# available tasks\n",
        "Pororo.available_tasks()"
      ],
      "execution_count": null,
      "outputs": [
        {
          "output_type": "execute_result",
          "data": {
            "application/vnd.google.colaboratory.intrinsic+json": {
              "type": "string"
            },
            "text/plain": [
              "\"Available tasks are ['mrc', 'rc', 'qa', 'question_answering', 'machine_reading_comprehension', 'reading_comprehension', 'sentiment', 'sentiment_analysis', 'nli', 'natural_language_inference', 'inference', 'fill', 'fill_in_blank', 'fib', 'para', 'pi', 'cse', 'contextual_subword_embedding', 'similarity', 'sts', 'semantic_textual_similarity', 'sentence_similarity', 'sentvec', 'sentence_embedding', 'sentence_vector', 'se', 'inflection', 'morphological_inflection', 'g2p', 'grapheme_to_phoneme', 'grapheme_to_phoneme_conversion', 'w2v', 'wordvec', 'word2vec', 'word_vector', 'word_embedding', 'tokenize', 'tokenise', 'tokenization', 'tokenisation', 'tok', 'segmentation', 'seg', 'mt', 'machine_translation', 'translation', 'pos', 'tag', 'pos_tagging', 'tagging', 'const', 'constituency', 'constituency_parsing', 'cp', 'pg', 'collocation', 'collocate', 'col', 'word_translation', 'wt', 'summarization', 'summarisation', 'text_summarization', 'text_summarisation', 'summary', 'gec', 'review', 'review_scoring', 'lemmatization', 'lemmatisation', 'lemma', 'ner', 'named_entity_recognition', 'entity_recognition', 'zero-topic', 'dp', 'dep_parse', 'caption', 'captioning', 'asr', 'speech_recognition', 'st', 'speech_translation', 'tts', 'text_to_speech', 'speech_synthesis', 'ocr', 'srl', 'semantic_role_labeling', 'p2g', 'aes', 'essay', 'qg', 'question_generation', 'age_suitability', 'wsd']\""
            ]
          },
          "metadata": {
            "tags": []
          },
          "execution_count": 6
        }
      ]
    },
    {
      "cell_type": "code",
      "metadata": {
        "colab": {
          "base_uri": "https://localhost:8080/",
          "height": 35
        },
        "id": "E1zfxdoQuOE-",
        "outputId": "a17deb55-4323-4ee1-81ca-b34fba521f51"
      },
      "source": [
        "from pororo import Pororo\n",
        "Pororo.available_models(\"collocation\")"
      ],
      "execution_count": null,
      "outputs": [
        {
          "output_type": "execute_result",
          "data": {
            "application/vnd.google.colaboratory.intrinsic+json": {
              "type": "string"
            },
            "text/plain": [
              "'Available models for collocation are ([lang]: ko, [model]: kollocate), ([lang]: en, [model]: collocate.en), ([lang]: ja, [model]: collocate.ja), ([lang]: zh, [model]: collocate.zh)'"
            ]
          },
          "metadata": {
            "tags": []
          },
          "execution_count": 7
        }
      ]
    },
    {
      "cell_type": "markdown",
      "metadata": {
        "id": "ppEgfJZQuspz"
      },
      "source": [
        "# Text summarization\n",
        "출처: https://kakaobrain.github.io/pororo/seq2seq/summary.html"
      ]
    },
    {
      "cell_type": "code",
      "metadata": {
        "colab": {
          "base_uri": "https://localhost:8080/"
        },
        "id": "da-7uOJaxRk8",
        "outputId": "5e5e977c-8c10-4a16-8ab2-82973a91de1e"
      },
      "source": [
        "# 뉴스 가져오는 모듈 설치\n",
        "!pip install newspaper3k"
      ],
      "execution_count": null,
      "outputs": [
        {
          "output_type": "stream",
          "text": [
            "Collecting newspaper3k\n",
            "\u001b[?25l  Downloading https://files.pythonhosted.org/packages/d7/b9/51afecb35bb61b188a4b44868001de348a0e8134b4dfa00ffc191567c4b9/newspaper3k-0.2.8-py3-none-any.whl (211kB)\n",
            "\r\u001b[K     |█▌                              | 10kB 13.3MB/s eta 0:00:01\r\u001b[K     |███                             | 20kB 19.5MB/s eta 0:00:01\r\u001b[K     |████▋                           | 30kB 12.6MB/s eta 0:00:01\r\u001b[K     |██████▏                         | 40kB 10.5MB/s eta 0:00:01\r\u001b[K     |███████▊                        | 51kB 7.9MB/s eta 0:00:01\r\u001b[K     |█████████▎                      | 61kB 7.2MB/s eta 0:00:01\r\u001b[K     |██████████▉                     | 71kB 7.9MB/s eta 0:00:01\r\u001b[K     |████████████▍                   | 81kB 8.3MB/s eta 0:00:01\r\u001b[K     |██████████████                  | 92kB 8.8MB/s eta 0:00:01\r\u001b[K     |███████████████▌                | 102kB 7.8MB/s eta 0:00:01\r\u001b[K     |█████████████████               | 112kB 7.8MB/s eta 0:00:01\r\u001b[K     |██████████████████▋             | 122kB 7.8MB/s eta 0:00:01\r\u001b[K     |████████████████████▏           | 133kB 7.8MB/s eta 0:00:01\r\u001b[K     |█████████████████████▊          | 143kB 7.8MB/s eta 0:00:01\r\u001b[K     |███████████████████████▎        | 153kB 7.8MB/s eta 0:00:01\r\u001b[K     |████████████████████████▉       | 163kB 7.8MB/s eta 0:00:01\r\u001b[K     |██████████████████████████▍     | 174kB 7.8MB/s eta 0:00:01\r\u001b[K     |████████████████████████████    | 184kB 7.8MB/s eta 0:00:01\r\u001b[K     |█████████████████████████████▌  | 194kB 7.8MB/s eta 0:00:01\r\u001b[K     |███████████████████████████████ | 204kB 7.8MB/s eta 0:00:01\r\u001b[K     |████████████████████████████████| 215kB 7.8MB/s \n",
            "\u001b[?25hRequirement already satisfied: lxml>=3.6.0 in /usr/local/lib/python3.7/dist-packages (from newspaper3k) (4.2.6)\n",
            "Requirement already satisfied: beautifulsoup4>=4.4.1 in /usr/local/lib/python3.7/dist-packages (from newspaper3k) (4.6.3)\n",
            "Requirement already satisfied: nltk>=3.2.1 in /usr/local/lib/python3.7/dist-packages (from newspaper3k) (3.6.2)\n",
            "Requirement already satisfied: python-dateutil>=2.5.3 in /usr/local/lib/python3.7/dist-packages (from newspaper3k) (2.8.1)\n",
            "Collecting feedfinder2>=0.0.4\n",
            "  Downloading https://files.pythonhosted.org/packages/35/82/1251fefec3bb4b03fd966c7e7f7a41c9fc2bb00d823a34c13f847fd61406/feedfinder2-0.0.4.tar.gz\n",
            "Requirement already satisfied: requests>=2.10.0 in /usr/local/lib/python3.7/dist-packages (from newspaper3k) (2.23.0)\n",
            "Requirement already satisfied: PyYAML>=3.11 in /usr/local/lib/python3.7/dist-packages (from newspaper3k) (5.4.1)\n",
            "Collecting jieba3k>=0.35.1\n",
            "\u001b[?25l  Downloading https://files.pythonhosted.org/packages/a9/cb/2c8332bcdc14d33b0bedd18ae0a4981a069c3513e445120da3c3f23a8aaa/jieba3k-0.35.1.zip (7.4MB)\n",
            "\u001b[K     |████████████████████████████████| 7.4MB 11.6MB/s \n",
            "\u001b[?25hCollecting tinysegmenter==0.3\n",
            "  Downloading https://files.pythonhosted.org/packages/17/82/86982e4b6d16e4febc79c2a1d68ee3b707e8a020c5d2bc4af8052d0f136a/tinysegmenter-0.3.tar.gz\n",
            "Collecting feedparser>=5.2.1\n",
            "\u001b[?25l  Downloading https://files.pythonhosted.org/packages/1c/21/faf1bac028662cc8adb2b5ef7a6f3999a765baa2835331df365289b0ca56/feedparser-6.0.2-py3-none-any.whl (80kB)\n",
            "\u001b[K     |████████████████████████████████| 81kB 8.6MB/s \n",
            "\u001b[?25hCollecting cssselect>=0.9.2\n",
            "  Downloading https://files.pythonhosted.org/packages/3b/d4/3b5c17f00cce85b9a1e6f91096e1cc8e8ede2e1be8e96b87ce1ed09e92c5/cssselect-1.1.0-py2.py3-none-any.whl\n",
            "Collecting tldextract>=2.0.1\n",
            "\u001b[?25l  Downloading https://files.pythonhosted.org/packages/7e/62/b6acd3129c5615b9860e670df07fd55b76175b63e6b7f68282c7cad38e9e/tldextract-3.1.0-py2.py3-none-any.whl (87kB)\n",
            "\u001b[K     |████████████████████████████████| 92kB 9.9MB/s \n",
            "\u001b[?25hRequirement already satisfied: Pillow>=3.3.0 in /usr/local/lib/python3.7/dist-packages (from newspaper3k) (7.1.2)\n",
            "Requirement already satisfied: tqdm in /usr/local/lib/python3.7/dist-packages (from nltk>=3.2.1->newspaper3k) (4.41.1)\n",
            "Requirement already satisfied: click in /usr/local/lib/python3.7/dist-packages (from nltk>=3.2.1->newspaper3k) (7.1.2)\n",
            "Requirement already satisfied: regex in /usr/local/lib/python3.7/dist-packages (from nltk>=3.2.1->newspaper3k) (2019.12.20)\n",
            "Requirement already satisfied: joblib in /usr/local/lib/python3.7/dist-packages (from nltk>=3.2.1->newspaper3k) (1.0.1)\n",
            "Requirement already satisfied: six>=1.5 in /usr/local/lib/python3.7/dist-packages (from python-dateutil>=2.5.3->newspaper3k) (1.15.0)\n",
            "Requirement already satisfied: chardet<4,>=3.0.2 in /usr/local/lib/python3.7/dist-packages (from requests>=2.10.0->newspaper3k) (3.0.4)\n",
            "Requirement already satisfied: idna<3,>=2.5 in /usr/local/lib/python3.7/dist-packages (from requests>=2.10.0->newspaper3k) (2.10)\n",
            "Requirement already satisfied: certifi>=2017.4.17 in /usr/local/lib/python3.7/dist-packages (from requests>=2.10.0->newspaper3k) (2020.12.5)\n",
            "Requirement already satisfied: urllib3!=1.25.0,!=1.25.1,<1.26,>=1.21.1 in /usr/local/lib/python3.7/dist-packages (from requests>=2.10.0->newspaper3k) (1.24.3)\n",
            "Collecting sgmllib3k\n",
            "  Downloading https://files.pythonhosted.org/packages/9e/bd/3704a8c3e0942d711c1299ebf7b9091930adae6675d7c8f476a7ce48653c/sgmllib3k-1.0.0.tar.gz\n",
            "Requirement already satisfied: filelock>=3.0.8 in /usr/local/lib/python3.7/dist-packages (from tldextract>=2.0.1->newspaper3k) (3.0.12)\n",
            "Collecting requests-file>=1.4\n",
            "  Downloading https://files.pythonhosted.org/packages/77/86/cdb5e8eaed90796aa83a6d9f75cfbd37af553c47a291cd47bc410ef9bdb2/requests_file-1.5.1-py2.py3-none-any.whl\n",
            "Building wheels for collected packages: feedfinder2, jieba3k, tinysegmenter, sgmllib3k\n",
            "  Building wheel for feedfinder2 (setup.py) ... \u001b[?25l\u001b[?25hdone\n",
            "  Created wheel for feedfinder2: filename=feedfinder2-0.0.4-cp37-none-any.whl size=3358 sha256=86b0b499e0a157f0020a89b52509b1ac2c3f770dc9cce91ccd442df5b32c9e24\n",
            "  Stored in directory: /root/.cache/pip/wheels/de/03/ca/778e3a7a627e3d98836cc890e7cb40c7575424cfd3340f40ed\n",
            "  Building wheel for jieba3k (setup.py) ... \u001b[?25l\u001b[?25hdone\n",
            "  Created wheel for jieba3k: filename=jieba3k-0.35.1-cp37-none-any.whl size=7398404 sha256=91e025034ce64d54e4cc79d73f1f8ded246b37dce76821b8f224a00b3338736a\n",
            "  Stored in directory: /root/.cache/pip/wheels/83/15/9c/a3f1f67e7f7181170ad37d32e503c35da20627c013f438ed34\n",
            "  Building wheel for tinysegmenter (setup.py) ... \u001b[?25l\u001b[?25hdone\n",
            "  Created wheel for tinysegmenter: filename=tinysegmenter-0.3-cp37-none-any.whl size=13553 sha256=e59c9e35a9ee85e47d830ff6ad2851130187e665e139066d45897310cd9793b0\n",
            "  Stored in directory: /root/.cache/pip/wheels/81/2b/43/a02ede72324dd40cdd7ca53aad718c7710628e91b8b0dc0f02\n",
            "  Building wheel for sgmllib3k (setup.py) ... \u001b[?25l\u001b[?25hdone\n",
            "  Created wheel for sgmllib3k: filename=sgmllib3k-1.0.0-cp37-none-any.whl size=6067 sha256=4b90dbcc289986bfdc29ec6a9a1bc50af536efd8109de7ef4404e69766516e77\n",
            "  Stored in directory: /root/.cache/pip/wheels/f1/80/5a/444ba08a550cdd241bd9baf8bae44be750efe370adb944506a\n",
            "Successfully built feedfinder2 jieba3k tinysegmenter sgmllib3k\n",
            "Installing collected packages: feedfinder2, jieba3k, tinysegmenter, sgmllib3k, feedparser, cssselect, requests-file, tldextract, newspaper3k\n",
            "Successfully installed cssselect-1.1.0 feedfinder2-0.0.4 feedparser-6.0.2 jieba3k-0.35.1 newspaper3k-0.2.8 requests-file-1.5.1 sgmllib3k-1.0.0 tinysegmenter-0.3 tldextract-3.1.0\n"
          ],
          "name": "stdout"
        }
      ]
    },
    {
      "cell_type": "code",
      "metadata": {
        "colab": {
          "base_uri": "https://localhost:8080/"
        },
        "id": "5-RSL7XtwKmQ",
        "outputId": "c3c48dd2-6b58-4d07-9012-311cb3824a63"
      },
      "source": [
        "# 뉴스 기사 가져오기\n",
        "from newspaper import Article\n",
        "\n",
        "url = 'https://www.sedaily.com/NewsView/22NGTXS8NB'\n",
        "news = Article(url, language='ko')\n",
        "news.download()\n",
        "news.parse()\n",
        "print(news.text)"
      ],
      "execution_count": null,
      "outputs": [
        {
          "output_type": "stream",
          "text": [
            "viewer 1일 오전 서울 중구 하나은행 본점 딜링룸에서 직원이 전광판 앞을 지나고 있다. 이날 코스피 지수는 3.20포인트(0.10%) 오른 3,207.12에 출발했고, 코스닥은 0.47포인트(0.05%) 오른 982.25에 출발했다. /사진=연합뉴스\n",
            "\n",
            "< 저작권자 ⓒ 서울경제, 무단 전재 및 재배포 금지 >\n",
            "\n",
            "장 초반 차익 실현 매물이 나오면서 하락했던 코스피가 상승세를 회복했다. 이날 기관은 홀로 코스피 상승세를 이끄는 모습이다.1일 오후 1시 12분 현재 코스피지수는 전 거래일보다 14.07포인트(0.44%) 오른 3,217.99를 기록 중이다. 이날 지수는 3.20포인트(0.10%) 오른 3,207.12로 출발했다 장 중 일시적으로 하락하기도 했다.유가증권시장에서는 개인과 외국인이 각각 5,020억 원과 1,638억 원을 순매도했다. 개인은 하루 만에 코스피에서 차익 실현에 나섰다. 반면 기관은 6,797억 원을 순매수 중이다. 특히 연기금은 900억 원을 순매수하며 하루 만에 매수 포지션으로 돌아섰다.코스피 시가총액 상위 종목은 대부분 상승 중이다. 삼성전자(0.12%), SK하이닉스(0.39%), NAVER(1.24%), LG화학(0.61%), 카카오(2.44%) 등이 상승 중이다.반면 삼성바이오로직스(-0.12%), 삼성SDI(-0.16%), 셀트리온(-0.36%) 등은 하락세다.한지영 키움증권 연구원은 “한국 증시는 경제협력개발기구(OECD)이 한국과 주요 교역국 경제에 대한 성장률 상향 조정했고, 국내 백신 접종 속도 확대에 따른 경기 정상화 기대감은 유효하다는 점이 증시 하단을 지지할 것”이라고 예상했다.같은 시간 코스닥지수는 전 거래일보다 0.50포인트(0.05%) 오른 982.28을 기록 중이다. 이날 지수는 0.47포인트(0.05%) 오른 982.25로 개장해 장 초반 하락 전환했다가 다시 소폭 오름세를 보이고 있다.코스닥시장에서는 개인 홀로 1,399억 원 규모를 순매수 중이다. 외국인과 기관은 각각 538억 언과 745억 원 순매도했다.코스닥 시가총액 상위 종목 중에서는 셀트리온헬스케어(-0.74%), 셀트리온제약(-0.43%), 펄어비스(-1.82%), CJ ENM(-0.67%) 등이 약세다. 반면 카카오게임즈(0.57%), 에코프로비엠(1.25%), 에이치엘비(3.20%) 등이 상승 중이다./신한나 기자 hanna@sedaily.com\n"
          ],
          "name": "stdout"
        }
      ]
    },
    {
      "cell_type": "markdown",
      "metadata": {
        "id": "3lYH91Uh0F3i"
      },
      "source": [
        "## 1. Abtractive summarization : Model generate a summary in the form of a complete sentence."
      ]
    },
    {
      "cell_type": "code",
      "metadata": {
        "id": "bxOPQAWEuZ3x"
      },
      "source": [
        "# abstractive 모델 가져오기\n",
        "abstractive_summ = Pororo(task=\"summarization\", model=\"abstractive\", lang=\"ko\")"
      ],
      "execution_count": null,
      "outputs": []
    },
    {
      "cell_type": "code",
      "metadata": {
        "colab": {
          "base_uri": "https://localhost:8080/",
          "height": 35
        },
        "id": "vALcU-lgxNH_",
        "outputId": "f7eeae0f-13cf-4909-e424-894f58e993a0"
      },
      "source": [
        "# abstractive 모델로 요약\n",
        "abstractive_summ(news.text)"
      ],
      "execution_count": null,
      "outputs": [
        {
          "output_type": "execute_result",
          "data": {
            "application/vnd.google.colaboratory.intrinsic+json": {
              "type": "string"
            },
            "text/plain": [
              "'코스피인은 하루만에 차익 실현 매물이 나오면서 하락했지만 코스피가 상승세를 회복했다며 기관은 홀로 코스피 상승세를 이끄는 모습이라고 전했다.'"
            ]
          },
          "metadata": {
            "tags": []
          },
          "execution_count": 16
        }
      ]
    },
    {
      "cell_type": "markdown",
      "metadata": {
        "id": "6fNFXoUm0JKp"
      },
      "source": [
        "# 2. Bullet-point summarization : Model generate multiple summaries in the form of a short phrase."
      ]
    },
    {
      "cell_type": "code",
      "metadata": {
        "id": "-zKeYqoYzR_g"
      },
      "source": [
        "# bullet 모델 가져오기\n",
        "bullet_summ = Pororo(task=\"summarization\", model=\"bullet\", lang=\"ko\")"
      ],
      "execution_count": null,
      "outputs": []
    },
    {
      "cell_type": "code",
      "metadata": {
        "colab": {
          "base_uri": "https://localhost:8080/"
        },
        "id": "7Wo_QScFzSPX",
        "outputId": "c5b17d15-e360-44fa-ea21-b8795398bc54"
      },
      "source": [
        "# bullet 모델로 요약\n",
        "bullet_summ(news.text)"
      ],
      "execution_count": null,
      "outputs": [
        {
          "output_type": "execute_result",
          "data": {
            "text/plain": [
              "['개인 5,020억 원·외국인 1,638억 원 순매도', ' 전 거래일보다 14.07포인트 오른 3,217.99']"
            ]
          },
          "metadata": {
            "tags": []
          },
          "execution_count": 20
        }
      ]
    },
    {
      "cell_type": "markdown",
      "metadata": {
        "id": "cx92a4ef0TqK"
      },
      "source": [
        "## 3. Extractive summarization : Model extract 3 important sentences from article."
      ]
    },
    {
      "cell_type": "code",
      "metadata": {
        "id": "4Xz-uLiPxmXA"
      },
      "source": [
        "# extractive 모델 가져오기\n",
        "extractive_summ = Pororo(task=\"summarization\", model=\"extractive\", lang=\"ko\")"
      ],
      "execution_count": null,
      "outputs": []
    },
    {
      "cell_type": "code",
      "metadata": {
        "colab": {
          "base_uri": "https://localhost:8080/",
          "height": 71
        },
        "id": "MKdq0IZlys9g",
        "outputId": "e367fa03-1985-4534-925b-1895d9d33c33"
      },
      "source": [
        "# extractive 모델로 요약\n",
        "extractive_summ(news.text)"
      ],
      "execution_count": null,
      "outputs": [
        {
          "output_type": "stream",
          "text": [
            "[nltk_data] Downloading package punkt to /root/nltk_data...\n",
            "[nltk_data]   Unzipping tokenizers/punkt.zip.\n"
          ],
          "name": "stderr"
        },
        {
          "output_type": "execute_result",
          "data": {
            "application/vnd.google.colaboratory.intrinsic+json": {
              "type": "string"
            },
            "text/plain": [
              "'이날 기관은 홀로 코스피 상승세를 이끄는 모습이다. 1일 오후 1시 12분 현재 코스피지수는 전 거래일보다 14.07포인트(0.44%) 오른 3,217.99를 기록 중이다. 유가증권시장에서는 개인과 외국인이 각각 5,020억 원과 1,638억 원을 순매도했다.'"
            ]
          },
          "metadata": {
            "tags": []
          },
          "execution_count": 18
        }
      ]
    },
    {
      "cell_type": "markdown",
      "metadata": {
        "id": "Gv8FlS_s2nHP"
      },
      "source": [
        "# 세가지 모델로 요약하는 예제 (2)"
      ]
    },
    {
      "cell_type": "code",
      "metadata": {
        "colab": {
          "base_uri": "https://localhost:8080/"
        },
        "id": "STrQiZNq2lwo",
        "outputId": "c9ab8732-a56e-4e2d-8966-4b0ac141d1fa"
      },
      "source": [
        "# 뉴스 기사 가져오기\n",
        "from newspaper import Article\n",
        "\n",
        "url = 'https://newsis.com/view/?id=NISX20210609_0001470005&cID=13001&pID=13000'\n",
        "news = Article(url, language='ko')\n",
        "news.download()\n",
        "news.parse()\n",
        "print(news.text)"
      ],
      "execution_count": null,
      "outputs": [
        {
          "output_type": "stream",
          "text": [
            "[서울=뉴시스] 이종희 기자 = 이베이코리아는 삼성전자 온라인 파트너사들과 손잡고 오는 15일까지 해양 생물 보호를 위한 플라스틱 줄이기 환경 기부 특별전을 진행한다고 9일 밝혔다.G마켓·옥션 회원 누구나 클릭 한 번만 하면 환경 보호에 동참할 수 있다. 환경 기부 특별전 이벤트 페이지에서 '무료 기부하기' 버튼을 클릭하면 G마켓·옥션이 고객참여형 사회공헌기금인 후원쇼핑, 나눔쇼핑 기금을 통해 클릭당 500원을 대신 적립한다. 매일 1회 참여 가능하다. 여기에 삼성전자 프린터 기획전 판매를 통한 수익금 일부까지 총 3000만원의 기부금을 목표로 하고 있다. 기부금은 자연환경 보전을 위해 다양한 프로젝트를 수행 중인 환경기부단체에 전달할 예정이다.환경기부 특별전을 맞아 G마켓에서 삼성 프린터 전 모델을 20% 할인가로 판매하고 수익금 일부를 기부하는 '가격호러 SHOW'도 오는 15일까지 진행한다. 프린터 외에도 삼성 모니터, PC 저장장치, 외장하드 등도 할인 판매한다. 중복 할인 쿠폰을 함께 제공한다.삼성전자 프린터는 환경부에서 발행하는 녹색기술 인증과 친환경 마크 인증을 획득하는 등 환경 오염 감소와 에너지 절감을 위해 많은 노력을 기울이고 있다. 이번 특별전에서는 잉크젯 프린터와 레이저 프린터, 복합기 등 다양한 인기 상품을 만나볼 수 있다.이상범 이베이코리아 영업본부 PC팀 매니저는 \"아름다운 자연 환경을 보호하고 지속가능한 소비가 확산될 수 있도록 삼성전자 온라인 파트너사와 손잡고 이번 특별전을 기획하게 됐다\"며 \"친환경 삼성 프린터를 특가로 만날 수 있는 것은 물론, 클릭 한 번으로 환경 보호에 동참할 수 있는 행사에 많은 관심 부탁 드린다\"고 말했다.◎공감언론 뉴시스 2papers@newsis.com\n"
          ],
          "name": "stdout"
        }
      ]
    },
    {
      "cell_type": "code",
      "metadata": {
        "colab": {
          "base_uri": "https://localhost:8080/",
          "height": 35
        },
        "id": "g9afiHrC2wLS",
        "outputId": "ce05631e-dfc2-423a-f42c-37f04bb5acb5"
      },
      "source": [
        "# abstractive 모델로 요약\n",
        "abstractive_summ(news.text)"
      ],
      "execution_count": null,
      "outputs": [
        {
          "output_type": "execute_result",
          "data": {
            "application/vnd.google.colaboratory.intrinsic+json": {
              "type": "string"
            },
            "text/plain": [
              "'이베이코리아는 삼성전자 온라인 파트너사들과 손잡고 오는 15일까지 G마켓·옥션이 후원쇼핑, 나눔쇼핑 기금을 통해 클릭당 500원을 대신 적립하는 플라스틱 줄이기 환경 기부 특별전을 진행한다고 9일 밝혔다.'"
            ]
          },
          "metadata": {
            "tags": []
          },
          "execution_count": 26
        }
      ]
    },
    {
      "cell_type": "code",
      "metadata": {
        "colab": {
          "base_uri": "https://localhost:8080/"
        },
        "id": "s6zzo8s_41s6",
        "outputId": "188918f3-0981-471a-af59-a5a499f91f5f"
      },
      "source": [
        "# bullet 모델로 요약\n",
        "bullet_summ(news.text)"
      ],
      "execution_count": null,
      "outputs": [
        {
          "output_type": "execute_result",
          "data": {
            "text/plain": [
              "['G마켓·옥션 회원 누구나 클릭 한 번으로 환경 보호 동참 가능',\n",
              " ' 15일까지 해양 생물 보호를 위한 플라스틱 줄이기 환경 기부 특별전']"
            ]
          },
          "metadata": {
            "tags": []
          },
          "execution_count": 28
        }
      ]
    },
    {
      "cell_type": "code",
      "metadata": {
        "colab": {
          "base_uri": "https://localhost:8080/",
          "height": 53
        },
        "id": "RRMBmk_d5SiB",
        "outputId": "48dbf3b7-d08a-4883-cc50-b3de8a868ba2"
      },
      "source": [
        "# extractive 모델로 요약\n",
        "extractive_summ(news.text)"
      ],
      "execution_count": null,
      "outputs": [
        {
          "output_type": "execute_result",
          "data": {
            "application/vnd.google.colaboratory.intrinsic+json": {
              "type": "string"
            },
            "text/plain": [
              "'[서울=뉴시스] 이종희 기자 = 이베이코리아는 삼성전자 온라인 파트너사들과 손잡고 오는 15일까지 해양 생물 보호를 위한 플라스틱 줄이기 환경 기부 특별전을 진행한다고 9일 밝혔다. G마켓·옥션 회원 누구나 클릭 한 번만 하면 환경 보호에 동참할 수 있다. 삼성전자 프린터는 환경부에서 발행하는 녹색기술 인증과 친환경 마크 인증을 획득하는 등 환경 오염 감소와 에너지 절감을 위해 많은 노력을 기울이고 있다.'"
            ]
          },
          "metadata": {
            "tags": []
          },
          "execution_count": 30
        }
      ]
    },
    {
      "cell_type": "code",
      "metadata": {
        "id": "47FUDiKa5axf"
      },
      "source": [
        ""
      ],
      "execution_count": null,
      "outputs": []
    }
  ]
}